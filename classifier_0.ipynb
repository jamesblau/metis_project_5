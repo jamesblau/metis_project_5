{
  "nbformat": 4,
  "nbformat_minor": 0,
  "metadata": {
    "colab": {
      "name": "classifier",
      "provenance": [],
      "collapsed_sections": []
    },
    "kernelspec": {
      "name": "python3",
      "display_name": "Python 3"
    },
    "accelerator": "GPU"
  },
  "cells": [
    {
      "cell_type": "code",
      "metadata": {
        "id": "nd5YVyXOQ_8v",
        "colab_type": "code",
        "colab": {}
      },
      "source": [
        "import re\n",
        "import pickle\n",
        "import numpy as np\n",
        "from collections import Counter\n",
        "from sklearn.model_selection import train_test_split\n",
        "from keras.applications.vgg16 import VGG16\n",
        "from keras.models import Sequential\n",
        "from keras.layers import Flatten, Dense\n",
        "from keras.preprocessing import image\n",
        "from keras.utils import np_utils"
      ],
      "execution_count": 0,
      "outputs": []
    },
    {
      "cell_type": "code",
      "metadata": {
        "id": "WrDUmZdBVpXQ",
        "colab_type": "code",
        "outputId": "f614acae-8e56-440a-eeec-e373467979aa",
        "colab": {
          "base_uri": "https://localhost:8080/",
          "height": 127
        }
      },
      "source": [
        "from google.colab import drive\n",
        "drive.mount('/content/gdrive')"
      ],
      "execution_count": 2,
      "outputs": [
        {
          "output_type": "stream",
          "text": [
            "Go to this URL in a browser: https://accounts.google.com/o/oauth2/auth?client_id=947318989803-6bn6qk8qdgf4n4g3pfee6491hc0brc4i.apps.googleusercontent.com&redirect_uri=urn%3aietf%3awg%3aoauth%3a2.0%3aoob&response_type=code&scope=email%20https%3a%2f%2fwww.googleapis.com%2fauth%2fdocs.test%20https%3a%2f%2fwww.googleapis.com%2fauth%2fdrive%20https%3a%2f%2fwww.googleapis.com%2fauth%2fdrive.photos.readonly%20https%3a%2f%2fwww.googleapis.com%2fauth%2fpeopleapi.readonly\n",
            "\n",
            "Enter your authorization code:\n",
            "··········\n",
            "Mounted at /content/gdrive\n"
          ],
          "name": "stdout"
        }
      ]
    },
    {
      "cell_type": "code",
      "metadata": {
        "id": "yRdA96Pd_hjH",
        "colab_type": "code",
        "colab": {}
      },
      "source": [
        "project_dir = \"gdrive/My Drive/metis_project_5\""
      ],
      "execution_count": 0,
      "outputs": []
    },
    {
      "cell_type": "code",
      "metadata": {
        "id": "y4XQ-kV6SgQu",
        "colab_type": "code",
        "colab": {}
      },
      "source": [
        "# Get easy labels\n",
        "\n",
        "# with open('labels/classifier/easy_labels.csv') as f:\n",
        "#     raw_easy_labels = f.read().split('\\n')[1:-1]\n",
        "\n",
        "# easy_label_regex = re.compile('^([^\\d]*)([^.]*)\\.png,(.*)$')\n",
        "\n",
        "# easy_label_to_int = {'a': 0, 'g': 1, 'db': 2, 'ub': 3, 's': 4}\n",
        "\n",
        "# easy_paths, easy_y = [], []\n",
        "# for label in raw_easy_labels:\n",
        "#     (category, frame, label) = label_regex.match(label).groups()\n",
        "#     int_label = label_to_int.get(label)\n",
        "#     if int_label and category == 'new_fox_':\n",
        "#         path = f\"data/larger_cropped/{frame}.png\"\n",
        "#         easy_paths.append(path)\n",
        "#         easy_y.append(int_label)\n",
        "\n",
        "# easy_num_categories = 5"
      ],
      "execution_count": 0,
      "outputs": []
    },
    {
      "cell_type": "code",
      "metadata": {
        "id": "p_VVlEc0SlV7",
        "colab_type": "code",
        "colab": {
          "base_uri": "https://localhost:8080/",
          "height": 35
        },
        "outputId": "b6545329-129f-49db-82bc-2850b5aca43b"
      },
      "source": [
        "# Get new easy_larger_cropped labels, wiz_sfat\n",
        "\n",
        "with open(f\"{project_dir}/labels/classifier/easy_wiz_sfat_larger_cropped_labels.csv\") as f:\n",
        "    raw_ws_labels = f.read().split('\\n')[1:-1]\n",
        "\n",
        "ws_label_regex = re.compile('^([^.]*)\\.png,(.*)$')\n",
        "\n",
        "ws_label_to_int = {\n",
        "    'g': 0,\n",
        "    'a': 1,\n",
        "    's': 0,\n",
        "    'aub': 1,\n",
        "    'gdb': 0,\n",
        "    'adb': 1,\n",
        "    # 'l': 1,\n",
        "}\n",
        "\n",
        "ws_paths, ws_labels, ws_y = [], [], []\n",
        "for label in raw_ws_labels:\n",
        "    frame, label = ws_label_regex.match(label).groups()\n",
        "    ws_labels.append(label)\n",
        "    if label in ws_label_to_int.keys():\n",
        "        int_label = ws_label_to_int[label]\n",
        "        path = f\"{project_dir}/da0ta/wiz_sfat/larger_cropped/{frame}.png\"\n",
        "        ws_paths.append(path)\n",
        "        ws_y.append(int_label)\n",
        "\n",
        "ws_num_categories = 2\n",
        "print(Counter(ws_labels))"
      ],
      "execution_count": 56,
      "outputs": [
        {
          "output_type": "stream",
          "text": [
            "Counter({'g': 200, 'a': 128, 's': 7, 'gdb': 5, 'aub': 5, 'adb': 2, 'l': 1})\n"
          ],
          "name": "stdout"
        }
      ]
    },
    {
      "cell_type": "code",
      "metadata": {
        "id": "LxzCnWSDm2EE",
        "colab_type": "code",
        "colab": {
          "base_uri": "https://localhost:8080/",
          "height": 35
        },
        "outputId": "5698e432-0e23-48e8-cbe5-ae72aa032b9b"
      },
      "source": [
        "# Get easy labels, tbh7_purp_fox_vgbc\n",
        "\n",
        "with open(f\"{project_dir}/labels/classifier/easy_tbh7_purp_fox_vgbc_labels.csv\") as f:\n",
        "    raw_tbh_labels = f.read().split('\\n')[1:-1]\n",
        "\n",
        "tbh_label_regex = re.compile('^([^.]*)\\.png,(.*)$')\n",
        "\n",
        "tbh_label_to_int = {\n",
        "    'g': 0,\n",
        "    'a': 1,\n",
        "    's': 0,\n",
        "    'aub': 1,\n",
        "    'gdb': 0,\n",
        "    'adb': 1,\n",
        "    # 'l': 1,\n",
        "}\n",
        "\n",
        "tbh_paths, tbh_labels, tbh_y = [], [], []\n",
        "for label in raw_tbh_labels:\n",
        "    frame, label = tbh_label_regex.match(label).groups()\n",
        "    tbh_labels.append(label)\n",
        "    if label in tbh_label_to_int.keys():\n",
        "        int_label = tbh_label_to_int[label]\n",
        "        path = f\"{project_dir}/data/tbh7_purp_fox_vgbc/larger_cropped/{frame}.png\"\n",
        "        tbh_paths.append(path)\n",
        "        tbh_y.append(int_label)\n",
        "\n",
        "tbh_num_categories = 2\n",
        "print(Counter(tbh_labels))"
      ],
      "execution_count": 75,
      "outputs": [
        {
          "output_type": "stream",
          "text": [
            "Counter({'g': 187, 'a': 173, 'aub': 18, 'l': 10, 's': 6, 'adb': 3, 'gdb': 3})\n"
          ],
          "name": "stdout"
        }
      ]
    },
    {
      "cell_type": "code",
      "metadata": {
        "id": "GTulfQ3RS_ez",
        "colab_type": "code",
        "colab": {}
      },
      "source": [
        "# Get hard labels\n",
        "\n",
        "# with open('labels/classifier/labels.csv') as f:\n",
        "#     raw_hard_labels = f.read().split('\\n')[1:-1]\n",
        "\n",
        "# hard_label_regex = re.compile('^([^\\d]*)([^.]*)\\.png,.,(.*)$')\n",
        "\n",
        "# hard_label_to_int = {\n",
        "#     'a': 0,\n",
        "#     'adb': 1,\n",
        "#     'anb': 2,\n",
        "#     'aub': 3,\n",
        "#     'ba': 4,\n",
        "#     'd': 5,\n",
        "#     'da': 6,\n",
        "#     'dt': 7,\n",
        "#     'g': 8,\n",
        "#     'gdb': 9,\n",
        "#     'h': 10,\n",
        "#     'ha': 11,\n",
        "#     'hg': 12,\n",
        "#     'j': 13,\n",
        "#     'l': 14,\n",
        "#     'na': 15,\n",
        "#     'p': 16,\n",
        "#     's': 17,\n",
        "#     'sd': 18,\n",
        "#     't': 19,\n",
        "#     'ua': 20,\n",
        "#     'ut': 21,\n",
        "# }\n",
        "\n",
        "# hard_paths, hard_y = [], []\n",
        "# for label in raw_hard_labels:\n",
        "#     (category, frame, label) = hard_label_regex.match(label).groups()\n",
        "#     int_label = label_to_int.get(label)\n",
        "#     if int_label and category == 'new_fox_':\n",
        "#         labels.add(label)\n",
        "#         path = f\"data/larger_cropped/{frame}.png\"\n",
        "#         paths.append(path)\n",
        "#         hard_y.append(label)\n",
        "\n",
        "# hard_num_categories = 22"
      ],
      "execution_count": 0,
      "outputs": []
    },
    {
      "cell_type": "code",
      "metadata": {
        "id": "a78SrOZHTEO1",
        "colab_type": "code",
        "colab": {}
      },
      "source": [
        "# Choose labels\n",
        "\n",
        "paths = ws_paths\n",
        "y = ws_y\n",
        "num_categories = ws_num_categories"
      ],
      "execution_count": 0,
      "outputs": []
    },
    {
      "cell_type": "code",
      "metadata": {
        "id": "O7jY_Qxs20NN",
        "colab_type": "code",
        "colab": {
          "base_uri": "https://localhost:8080/",
          "height": 73
        },
        "outputId": "9c18c35e-a249-4e60-fcc8-1a01ae83abe4"
      },
      "source": [
        "# image augmentation\n",
        "train_datagen = image.ImageDataGenerator(\n",
        "    # rescale=1./255,\n",
        "    featurewise_std_normalization=True,\n",
        "    vertical_flip=True,\n",
        "    validation_split=0.25)"
      ],
      "execution_count": 36,
      "outputs": [
        {
          "output_type": "stream",
          "text": [
            "/usr/local/lib/python3.6/dist-packages/keras_preprocessing/image/image_data_generator.py:349: UserWarning: This ImageDataGenerator specifies `featurewise_std_normalization`, which overrides setting of `featurewise_center`.\n",
            "  warnings.warn('This ImageDataGenerator specifies '\n"
          ],
          "name": "stderr"
        }
      ]
    },
    {
      "cell_type": "code",
      "metadata": {
        "id": "AjrpBfAg4Fhn",
        "colab_type": "code",
        "colab": {}
      },
      "source": [
        "# only applying scaling to the validation set\n",
        "# val_datagen = ImageDataGenerator(rescale=1./255)"
      ],
      "execution_count": 0,
      "outputs": []
    },
    {
      "cell_type": "code",
      "metadata": {
        "id": "dqi07MPa27s2",
        "colab_type": "code",
        "colab": {}
      },
      "source": [
        "# training and validation gerators\n",
        "train_gen = train_datagen.flow(X_train, y_train_cat)\n",
        "val_gen = val_datagen.flow(X_val, y_val_cat)\n",
        "epochs=100\n",
        "# callbacks\n",
        "es = EarlyStopping(monitor='val_loss', mode='min', patience=30, verbose=1, restore_best_weights=True)\n",
        "reduce_lr = ReduceLROnPlateau(monitor='val_loss', verbose=1, factor=0.2,\n",
        "                              patience=10, cooldown=5, min_lr=0.0002)\n",
        "NN.summary()\n",
        "NN.fit_generator(train_gen, steps_per_epoch=100, epochs=epochs, callbacks=[es, reduce_lr], \n",
        "                 verbose=1, validation_data=val_gen, validation_steps=20)"
      ],
      "execution_count": 0,
      "outputs": []
    },
    {
      "cell_type": "code",
      "metadata": {
        "id": "1nRT25jsugJl",
        "colab_type": "code",
        "colab": {}
      },
      "source": [
        "img_hw = (350, 350)\n",
        "img_dimensions = (350, 350, 3)\n",
        "\n",
        "def prepare_image(img_path):\n",
        "    img = image.load_img(img_path, target_size=img_hw)\n",
        "    x = image.img_to_array(img)\n",
        "    x = np.expand_dims(x, axis=0)\n",
        "    # x = mobilenet_v2.preprocess_input(x)\n",
        "    return x"
      ],
      "execution_count": 0,
      "outputs": []
    },
    {
      "cell_type": "code",
      "metadata": {
        "id": "zE6I7qmTTHIM",
        "colab_type": "code",
        "colab": {}
      },
      "source": [
        "# Prepare test/train data, wiz_sfat\n",
        "\n",
        "ws_X = np.array([prepare_image(path)[0] for path in ws_paths])\n",
        "\n",
        "ws_X_tr, ws_X_te, ws_y_tr, ws_y_te = train_test_split(ws_X, ws_y, test_size=0.2, random_state=42)\n",
        "\n",
        "ws_y_tr_cat = np_utils.to_categorical(ws_y_tr)"
      ],
      "execution_count": 0,
      "outputs": []
    },
    {
      "cell_type": "code",
      "metadata": {
        "id": "7tPo99ntuFwo",
        "colab_type": "code",
        "colab": {
          "base_uri": "https://localhost:8080/",
          "height": 391
        },
        "outputId": "6f64e98c-6bc7-48ac-dfd5-304b5e4c5eef"
      },
      "source": [
        "# Prepare test/train data, tbh7\n",
        "\n",
        "tbh_X = np.array([prepare_image(path)[0] for path in tbh_paths])\n",
        "\n",
        "tbh_X_tr, tbh_X_te, tbh_y_tr, tbh_y_te = train_test_split(tbh_X, tbh_y, test_size=0.2, random_state=42)\n",
        "\n",
        "tbh_y_tr_cat = np_utils.to_categorical(tbh_y_tr)"
      ],
      "execution_count": 76,
      "outputs": [
        {
          "output_type": "error",
          "ename": "FileNotFoundError",
          "evalue": "ignored",
          "traceback": [
            "\u001b[0;31m---------------------------------------------------------------------------\u001b[0m",
            "\u001b[0;31mFileNotFoundError\u001b[0m                         Traceback (most recent call last)",
            "\u001b[0;32m<ipython-input-76-532636f59121>\u001b[0m in \u001b[0;36m<module>\u001b[0;34m()\u001b[0m\n\u001b[1;32m      1\u001b[0m \u001b[0;31m# Prepare test/train data, tbh7\u001b[0m\u001b[0;34m\u001b[0m\u001b[0;34m\u001b[0m\u001b[0;34m\u001b[0m\u001b[0m\n\u001b[1;32m      2\u001b[0m \u001b[0;34m\u001b[0m\u001b[0m\n\u001b[0;32m----> 3\u001b[0;31m \u001b[0mtbh_X\u001b[0m \u001b[0;34m=\u001b[0m \u001b[0mnp\u001b[0m\u001b[0;34m.\u001b[0m\u001b[0marray\u001b[0m\u001b[0;34m(\u001b[0m\u001b[0;34m[\u001b[0m\u001b[0mprepare_image\u001b[0m\u001b[0;34m(\u001b[0m\u001b[0mpath\u001b[0m\u001b[0;34m)\u001b[0m\u001b[0;34m[\u001b[0m\u001b[0;36m0\u001b[0m\u001b[0;34m]\u001b[0m \u001b[0;32mfor\u001b[0m \u001b[0mpath\u001b[0m \u001b[0;32min\u001b[0m \u001b[0mtbh_paths\u001b[0m\u001b[0;34m]\u001b[0m\u001b[0;34m)\u001b[0m\u001b[0;34m\u001b[0m\u001b[0;34m\u001b[0m\u001b[0m\n\u001b[0m\u001b[1;32m      4\u001b[0m \u001b[0;34m\u001b[0m\u001b[0m\n\u001b[1;32m      5\u001b[0m \u001b[0mtbh_X_tr\u001b[0m\u001b[0;34m,\u001b[0m \u001b[0mtbh_X_te\u001b[0m\u001b[0;34m,\u001b[0m \u001b[0mtbh_y_tr\u001b[0m\u001b[0;34m,\u001b[0m \u001b[0mtbh_y_te\u001b[0m \u001b[0;34m=\u001b[0m \u001b[0mtrain_test_split\u001b[0m\u001b[0;34m(\u001b[0m\u001b[0mtbh_X\u001b[0m\u001b[0;34m,\u001b[0m \u001b[0mtbh_y\u001b[0m\u001b[0;34m,\u001b[0m \u001b[0mtest_size\u001b[0m\u001b[0;34m=\u001b[0m\u001b[0;36m0.2\u001b[0m\u001b[0;34m,\u001b[0m \u001b[0mrandom_state\u001b[0m\u001b[0;34m=\u001b[0m\u001b[0;36m42\u001b[0m\u001b[0;34m)\u001b[0m\u001b[0;34m\u001b[0m\u001b[0;34m\u001b[0m\u001b[0m\n",
            "\u001b[0;32m<ipython-input-76-532636f59121>\u001b[0m in \u001b[0;36m<listcomp>\u001b[0;34m(.0)\u001b[0m\n\u001b[1;32m      1\u001b[0m \u001b[0;31m# Prepare test/train data, tbh7\u001b[0m\u001b[0;34m\u001b[0m\u001b[0;34m\u001b[0m\u001b[0;34m\u001b[0m\u001b[0m\n\u001b[1;32m      2\u001b[0m \u001b[0;34m\u001b[0m\u001b[0m\n\u001b[0;32m----> 3\u001b[0;31m \u001b[0mtbh_X\u001b[0m \u001b[0;34m=\u001b[0m \u001b[0mnp\u001b[0m\u001b[0;34m.\u001b[0m\u001b[0marray\u001b[0m\u001b[0;34m(\u001b[0m\u001b[0;34m[\u001b[0m\u001b[0mprepare_image\u001b[0m\u001b[0;34m(\u001b[0m\u001b[0mpath\u001b[0m\u001b[0;34m)\u001b[0m\u001b[0;34m[\u001b[0m\u001b[0;36m0\u001b[0m\u001b[0;34m]\u001b[0m \u001b[0;32mfor\u001b[0m \u001b[0mpath\u001b[0m \u001b[0;32min\u001b[0m \u001b[0mtbh_paths\u001b[0m\u001b[0;34m]\u001b[0m\u001b[0;34m)\u001b[0m\u001b[0;34m\u001b[0m\u001b[0;34m\u001b[0m\u001b[0m\n\u001b[0m\u001b[1;32m      4\u001b[0m \u001b[0;34m\u001b[0m\u001b[0m\n\u001b[1;32m      5\u001b[0m \u001b[0mtbh_X_tr\u001b[0m\u001b[0;34m,\u001b[0m \u001b[0mtbh_X_te\u001b[0m\u001b[0;34m,\u001b[0m \u001b[0mtbh_y_tr\u001b[0m\u001b[0;34m,\u001b[0m \u001b[0mtbh_y_te\u001b[0m \u001b[0;34m=\u001b[0m \u001b[0mtrain_test_split\u001b[0m\u001b[0;34m(\u001b[0m\u001b[0mtbh_X\u001b[0m\u001b[0;34m,\u001b[0m \u001b[0mtbh_y\u001b[0m\u001b[0;34m,\u001b[0m \u001b[0mtest_size\u001b[0m\u001b[0;34m=\u001b[0m\u001b[0;36m0.2\u001b[0m\u001b[0;34m,\u001b[0m \u001b[0mrandom_state\u001b[0m\u001b[0;34m=\u001b[0m\u001b[0;36m42\u001b[0m\u001b[0;34m)\u001b[0m\u001b[0;34m\u001b[0m\u001b[0;34m\u001b[0m\u001b[0m\n",
            "\u001b[0;32m<ipython-input-72-1a3aeac42934>\u001b[0m in \u001b[0;36mprepare_image\u001b[0;34m(img_path)\u001b[0m\n\u001b[1;32m      3\u001b[0m \u001b[0;34m\u001b[0m\u001b[0m\n\u001b[1;32m      4\u001b[0m \u001b[0;32mdef\u001b[0m \u001b[0mprepare_image\u001b[0m\u001b[0;34m(\u001b[0m\u001b[0mimg_path\u001b[0m\u001b[0;34m)\u001b[0m\u001b[0;34m:\u001b[0m\u001b[0;34m\u001b[0m\u001b[0;34m\u001b[0m\u001b[0m\n\u001b[0;32m----> 5\u001b[0;31m     \u001b[0mimg\u001b[0m \u001b[0;34m=\u001b[0m \u001b[0mimage\u001b[0m\u001b[0;34m.\u001b[0m\u001b[0mload_img\u001b[0m\u001b[0;34m(\u001b[0m\u001b[0mimg_path\u001b[0m\u001b[0;34m,\u001b[0m \u001b[0mtarget_size\u001b[0m\u001b[0;34m=\u001b[0m\u001b[0mimg_hw\u001b[0m\u001b[0;34m)\u001b[0m\u001b[0;34m\u001b[0m\u001b[0;34m\u001b[0m\u001b[0m\n\u001b[0m\u001b[1;32m      6\u001b[0m     \u001b[0mx\u001b[0m \u001b[0;34m=\u001b[0m \u001b[0mimage\u001b[0m\u001b[0;34m.\u001b[0m\u001b[0mimg_to_array\u001b[0m\u001b[0;34m(\u001b[0m\u001b[0mimg\u001b[0m\u001b[0;34m)\u001b[0m\u001b[0;34m\u001b[0m\u001b[0;34m\u001b[0m\u001b[0m\n\u001b[1;32m      7\u001b[0m     \u001b[0mx\u001b[0m \u001b[0;34m=\u001b[0m \u001b[0mnp\u001b[0m\u001b[0;34m.\u001b[0m\u001b[0mexpand_dims\u001b[0m\u001b[0;34m(\u001b[0m\u001b[0mx\u001b[0m\u001b[0;34m,\u001b[0m \u001b[0maxis\u001b[0m\u001b[0;34m=\u001b[0m\u001b[0;36m0\u001b[0m\u001b[0;34m)\u001b[0m\u001b[0;34m\u001b[0m\u001b[0;34m\u001b[0m\u001b[0m\n",
            "\u001b[0;32m/usr/local/lib/python3.6/dist-packages/keras_preprocessing/image/utils.py\u001b[0m in \u001b[0;36mload_img\u001b[0;34m(path, grayscale, color_mode, target_size, interpolation)\u001b[0m\n\u001b[1;32m    111\u001b[0m         raise ImportError('Could not import PIL.Image. '\n\u001b[1;32m    112\u001b[0m                           'The use of `load_img` requires PIL.')\n\u001b[0;32m--> 113\u001b[0;31m     \u001b[0;32mwith\u001b[0m \u001b[0mopen\u001b[0m\u001b[0;34m(\u001b[0m\u001b[0mpath\u001b[0m\u001b[0;34m,\u001b[0m \u001b[0;34m'rb'\u001b[0m\u001b[0;34m)\u001b[0m \u001b[0;32mas\u001b[0m \u001b[0mf\u001b[0m\u001b[0;34m:\u001b[0m\u001b[0;34m\u001b[0m\u001b[0;34m\u001b[0m\u001b[0m\n\u001b[0m\u001b[1;32m    114\u001b[0m         \u001b[0mimg\u001b[0m \u001b[0;34m=\u001b[0m \u001b[0mpil_image\u001b[0m\u001b[0;34m.\u001b[0m\u001b[0mopen\u001b[0m\u001b[0;34m(\u001b[0m\u001b[0mio\u001b[0m\u001b[0;34m.\u001b[0m\u001b[0mBytesIO\u001b[0m\u001b[0;34m(\u001b[0m\u001b[0mf\u001b[0m\u001b[0;34m.\u001b[0m\u001b[0mread\u001b[0m\u001b[0;34m(\u001b[0m\u001b[0;34m)\u001b[0m\u001b[0;34m)\u001b[0m\u001b[0;34m)\u001b[0m\u001b[0;34m\u001b[0m\u001b[0;34m\u001b[0m\u001b[0m\n\u001b[1;32m    115\u001b[0m         \u001b[0;32mif\u001b[0m \u001b[0mcolor_mode\u001b[0m \u001b[0;34m==\u001b[0m \u001b[0;34m'grayscale'\u001b[0m\u001b[0;34m:\u001b[0m\u001b[0;34m\u001b[0m\u001b[0;34m\u001b[0m\u001b[0m\n",
            "\u001b[0;31mFileNotFoundError\u001b[0m: [Errno 2] No such file or directory: 'gdrive/My Drive/metis_project_5/data/tbh7_purp_fox_vgbc/larger_cropped/frame12015.png'"
          ]
        }
      ]
    },
    {
      "cell_type": "code",
      "metadata": {
        "id": "RzWhMxvHAn00",
        "colab_type": "code",
        "colab": {
          "base_uri": "https://localhost:8080/",
          "height": 53
        },
        "outputId": "3703f465-f3b3-4c5e-ca21-3decf93bf21c"
      },
      "source": [
        "pickles_dir = project_dir + \"/pickles\"\n",
        "\n",
        "!ls gdrive/My\\ Drive/metis_project_5/pickles"
      ],
      "execution_count": 63,
      "outputs": [
        {
          "output_type": "stream",
          "text": [
            "model_1.pickle\tX_tr.pickle  y_tr_cat.pickle\n",
            "X_te.pickle\ty_te.pickle  y_tr.pickle\n"
          ],
          "name": "stdout"
        }
      ]
    },
    {
      "cell_type": "code",
      "metadata": {
        "id": "LYmEhGwCX6wd",
        "colab_type": "code",
        "colab": {}
      },
      "source": [
        "# with open(f'{pickles_dir}/ws_X_tr.pickle', 'wb') as f:\n",
        "#     pickle.dump(ws_X_tr, f)\n",
        "\n",
        "# with open(f'{pickles_dir}/ws_X_te.pickle', 'wb') as f:\n",
        "#     pickle.dump(ws_X_te, f)\n",
        "\n",
        "# with open(f'{pickles_dir}/ws_y_tr.pickle', 'wb') as f:\n",
        "#     pickle.dump(ws_y_tr, f)\n",
        "\n",
        "# with open(f'{pickles_dir}/ws_y_tr_cat.pickle', 'wb') as f:\n",
        "#     pickle.dump(ws_y_tr_cat, f)\n",
        "\n",
        "# with open(f'{pickles_dir}/ws_y_te.pickle', 'wb') as f:\n",
        "#     pickle.dump(ws_y_te, f)"
      ],
      "execution_count": 0,
      "outputs": []
    },
    {
      "cell_type": "code",
      "metadata": {
        "id": "l6h3hn6oBiYi",
        "colab_type": "code",
        "colab": {}
      },
      "source": [
        "with open(f'{pickles_dir}/ws_X_tr.pickle', 'rb') as f:\n",
        "    ws_X_tr = pickle.load(f)\n",
        "\n",
        "with open(f'{pickles_dir}/ws_X_te.pickle', 'rb') as f:\n",
        "    ws_X_te = pickle.load(f)\n",
        "\n",
        "with open(f'{pickles_dir}/ws_y_tr.pickle', 'rb') as f:\n",
        "    ws_y_tr = pickle.load(f)\n",
        "\n",
        "with open(f'{pickles_dir}/ws_y_tr_cat.pickle', 'rb') as f:\n",
        "    ws_y_tr_cat = pickle.load(f)\n",
        "\n",
        "with open(f'{pickles_dir}/ws_y_te.pickle', 'rb') as f:\n",
        "    ws_y_te = pickle.load(f)"
      ],
      "execution_count": 0,
      "outputs": []
    },
    {
      "cell_type": "code",
      "metadata": {
        "id": "040BAKx-TJu9",
        "colab_type": "code",
        "colab": {}
      },
      "source": [
        "# Get pretrained model\n",
        "\n",
        "pretrained = VGG16(\n",
        "    weights='imagenet',\n",
        "    include_top=False,\n",
        "    input_shape=img_dimensions,\n",
        ")"
      ],
      "execution_count": 0,
      "outputs": []
    },
    {
      "cell_type": "code",
      "metadata": {
        "id": "FgzbjrrpCOs6",
        "colab_type": "code",
        "colab": {}
      },
      "source": [
        "# Build model\n",
        "\n",
        "for layer in pretrained.layers[:17]:\n",
        "    layer.trainable = False\n",
        "\n",
        "model = Sequential()\n",
        "model.add(pretrained)\n",
        "model.add(Flatten())\n",
        "\n",
        "if num_categories > 2:\n",
        "    model.add(Dense(num_categories))\n",
        "    loss='categorical_crossentropy',\n",
        "else:\n",
        "    model.add(Dense(1, activation='sigmoid'))\n",
        "    loss='binary_crossentropy',\n",
        "\n",
        "model.compile(\n",
        "    loss=loss,\n",
        "    optimizer='adam',\n",
        "    metrics=['accuracy'],\n",
        ")"
      ],
      "execution_count": 0,
      "outputs": []
    },
    {
      "cell_type": "code",
      "metadata": {
        "id": "WeTpcolkTQFD",
        "colab_type": "code",
        "colab": {
          "base_uri": "https://localhost:8080/",
          "height": 555
        },
        "outputId": "ca61191b-8e70-4ec3-83dd-35c0736bb7d7"
      },
      "source": [
        "# Train model\n",
        "\n",
        "for _ in range(10):\n",
        "  if num_categories > 2:\n",
        "      model.fit(X_tr, y_tr_cat)\n",
        "  else:\n",
        "      model.fit(X_tr, y_tr)\n",
        "      y_pr = model.predict_classes(X_te)[:,0]\n",
        "      print(f\"Test accuracy: {len(y_pr[y_pr == y_te]) / len(y_pr)}\")"
      ],
      "execution_count": 88,
      "outputs": [
        {
          "output_type": "stream",
          "text": [
            "Epoch 1/1\n",
            "277/277 [==============================] - 2s 7ms/step - loss: 0.8413 - accuracy: 0.9170\n",
            "Test accuracy: 0.8\n",
            "Epoch 1/1\n",
            "277/277 [==============================] - 2s 7ms/step - loss: 0.1351 - accuracy: 0.9747\n",
            "Test accuracy: 0.8571428571428571\n",
            "Epoch 1/1\n",
            "277/277 [==============================] - 2s 7ms/step - loss: 0.0772 - accuracy: 0.9928\n",
            "Test accuracy: 0.8285714285714286\n",
            "Epoch 1/1\n",
            "277/277 [==============================] - 2s 7ms/step - loss: 0.0118 - accuracy: 0.9964\n",
            "Test accuracy: 0.8285714285714286\n",
            "Epoch 1/1\n",
            "277/277 [==============================] - 2s 7ms/step - loss: 1.1469e-05 - accuracy: 1.0000\n",
            "Test accuracy: 0.8428571428571429\n",
            "Epoch 1/1\n",
            "277/277 [==============================] - 2s 7ms/step - loss: 5.5487e-05 - accuracy: 1.0000\n",
            "Test accuracy: 0.8571428571428571\n",
            "Epoch 1/1\n",
            "277/277 [==============================] - 2s 7ms/step - loss: 6.7488e-06 - accuracy: 1.0000\n",
            "Test accuracy: 0.8571428571428571\n",
            "Epoch 1/1\n",
            "277/277 [==============================] - 2s 7ms/step - loss: 6.8905e-06 - accuracy: 1.0000\n",
            "Test accuracy: 0.8571428571428571\n",
            "Epoch 1/1\n",
            "277/277 [==============================] - 2s 7ms/step - loss: 1.7133e-06 - accuracy: 1.0000\n",
            "Test accuracy: 0.8571428571428571\n",
            "Epoch 1/1\n",
            "277/277 [==============================] - 2s 7ms/step - loss: 9.3637e-07 - accuracy: 1.0000\n",
            "Test accuracy: 0.8571428571428571\n"
          ],
          "name": "stdout"
        }
      ]
    },
    {
      "cell_type": "code",
      "metadata": {
        "id": "MAdF9Vi4B5YS",
        "colab_type": "code",
        "colab": {}
      },
      "source": [
        "# with open('pickles/model_1.pickle', 'wb') as f:\n",
        "    # pickle.dump(model, f)"
      ],
      "execution_count": 0,
      "outputs": []
    },
    {
      "cell_type": "code",
      "metadata": {
        "id": "1jx4pv2sB7zo",
        "colab_type": "code",
        "colab": {}
      },
      "source": [
        "with open('pickles/model_1.pickle', 'rb') as f:\n",
        "    model = pickle.load(f)"
      ],
      "execution_count": 0,
      "outputs": []
    },
    {
      "cell_type": "code",
      "metadata": {
        "id": "dFvsihZmF_Jr",
        "colab_type": "code",
        "colab": {
          "base_uri": "https://localhost:8080/",
          "height": 89
        },
        "outputId": "46af049d-6cf8-49a8-c917-86efb7507e3f"
      },
      "source": [
        "print(f\"Train zeros: {len(list(filter(lambda x: x == 0, y_tr)))}\")\n",
        "print(f\"Train ones: {len(list(filter(lambda x: x == 1, y_tr)))}\")\n",
        "print(f\"Test zeros: {len(list(filter(lambda x: x == 0, y_te)))}\")\n",
        "print(f\"Test ones: {len(list(filter(lambda x: x == 1, y_te)))}\")"
      ],
      "execution_count": 87,
      "outputs": [
        {
          "output_type": "stream",
          "text": [
            "Train zeros: 168\n",
            "Train ones: 109\n",
            "Test zeros: 44\n",
            "Test ones: 26\n"
          ],
          "name": "stdout"
        }
      ]
    },
    {
      "cell_type": "code",
      "metadata": {
        "id": "Er7tONMQFxga",
        "colab_type": "code",
        "colab": {
          "base_uri": "https://localhost:8080/",
          "height": 1000
        },
        "outputId": "43b9aced-bce9-4f65-b606-859f794a424c"
      },
      "source": [
        "for x in zip(y_pr, y_te):\n",
        "  print(x)"
      ],
      "execution_count": 79,
      "outputs": [
        {
          "output_type": "stream",
          "text": [
            "(0, 0)\n",
            "(0, 0)\n",
            "(0, 0)\n",
            "(0, 1)\n",
            "(1, 0)\n",
            "(0, 0)\n",
            "(1, 1)\n",
            "(0, 1)\n",
            "(0, 1)\n",
            "(1, 1)\n",
            "(1, 0)\n",
            "(0, 0)\n",
            "(0, 0)\n",
            "(0, 0)\n",
            "(0, 0)\n",
            "(0, 0)\n",
            "(1, 1)\n",
            "(1, 1)\n",
            "(1, 1)\n",
            "(1, 1)\n",
            "(0, 0)\n",
            "(0, 0)\n",
            "(0, 0)\n",
            "(1, 1)\n",
            "(0, 0)\n",
            "(0, 1)\n",
            "(1, 1)\n",
            "(1, 1)\n",
            "(0, 0)\n",
            "(1, 1)\n",
            "(0, 0)\n",
            "(1, 1)\n",
            "(0, 0)\n",
            "(0, 0)\n",
            "(0, 0)\n",
            "(1, 1)\n",
            "(0, 0)\n",
            "(0, 1)\n",
            "(0, 0)\n",
            "(0, 0)\n",
            "(1, 0)\n",
            "(1, 0)\n",
            "(0, 0)\n",
            "(0, 0)\n",
            "(0, 0)\n",
            "(0, 0)\n",
            "(0, 0)\n",
            "(1, 1)\n",
            "(0, 0)\n",
            "(1, 1)\n",
            "(0, 0)\n",
            "(0, 0)\n",
            "(0, 0)\n",
            "(0, 0)\n",
            "(1, 1)\n",
            "(0, 0)\n",
            "(0, 0)\n",
            "(0, 1)\n",
            "(0, 0)\n",
            "(0, 1)\n",
            "(0, 0)\n",
            "(0, 0)\n",
            "(1, 1)\n",
            "(0, 0)\n",
            "(0, 0)\n",
            "(1, 1)\n",
            "(1, 1)\n",
            "(0, 1)\n",
            "(0, 0)\n",
            "(0, 0)\n"
          ],
          "name": "stdout"
        }
      ]
    },
    {
      "cell_type": "code",
      "metadata": {
        "id": "tuLXz5lHTTCX",
        "colab_type": "code",
        "colab": {
          "base_uri": "https://localhost:8080/",
          "height": 53
        },
        "outputId": "f714fdd5-6080-40ec-cec8-6c32fd23e4d2"
      },
      "source": [
        "# Predict and score\n",
        "\n",
        "y_pr = model.predict_classes(X_te)[:,0]\n",
        "\n",
        "print(f\"Test accuracy: {len(y_pr[y_pr == y_te]) / len(y_pr)}\")\n",
        "\n",
        "assert(len(y_pr) == len(y_te))\n",
        "\n",
        "y_tr_pr = model.predict_classes(X_tr)[:,0]\n",
        "\n",
        "print(f\"Train accuracy: {len(y_tr_pr[y_tr_pr == y_tr]) / len(y_tr_pr)}\")\n",
        "\n",
        "assert(len(y_tr_pr) == len(y_tr))"
      ],
      "execution_count": 78,
      "outputs": [
        {
          "output_type": "stream",
          "text": [
            "Test accuracy: 0.8285714285714286\n",
            "Train accuracy: 0.9566787003610109\n"
          ],
          "name": "stdout"
        }
      ]
    },
    {
      "cell_type": "code",
      "metadata": {
        "id": "wDRAZcDeEjUV",
        "colab_type": "code",
        "colab": {
          "base_uri": "https://localhost:8080/",
          "height": 1000
        },
        "outputId": "c549abb1-8f7c-4674-e66d-9eaa3bfa338d"
      },
      "source": [
        "print(y_pr)\n",
        "print(y_te)\n",
        "print(y_tr_pr)\n",
        "print(y_tr)"
      ],
      "execution_count": 75,
      "outputs": [
        {
          "output_type": "stream",
          "text": [
            "[0 0 0 0 1 0 1 0 0 1 1 0 0 0 0 0 1 1 1 1 0 0 0 1 0 0 1 1 0 1 0 1 0 0 0 1 0\n",
            " 0 0 0 1 1 0 0 0 0 0 1 0 1 0 0 0 0 1 0 0 0 0 0 0 0 1 0 0 1 1 0 0 0]\n",
            "[0, 0, 0, 1, 0, 0, 1, 1, 1, 1, 0, 0, 0, 0, 0, 0, 1, 1, 1, 1, 0, 0, 0, 1, 0, 1, 1, 1, 0, 1, 0, 1, 0, 0, 0, 1, 0, 1, 0, 0, 0, 0, 0, 0, 0, 0, 0, 1, 0, 1, 0, 0, 0, 0, 1, 0, 0, 1, 0, 1, 0, 0, 1, 0, 0, 1, 1, 1, 0, 0]\n",
            "[[0]\n",
            " [1]\n",
            " [0]\n",
            " [0]\n",
            " [0]\n",
            " [0]\n",
            " [0]\n",
            " [1]\n",
            " [1]\n",
            " [1]\n",
            " [0]\n",
            " [0]\n",
            " [0]\n",
            " [1]\n",
            " [1]\n",
            " [0]\n",
            " [0]\n",
            " [1]\n",
            " [0]\n",
            " [0]\n",
            " [1]\n",
            " [1]\n",
            " [0]\n",
            " [0]\n",
            " [0]\n",
            " [0]\n",
            " [0]\n",
            " [0]\n",
            " [0]\n",
            " [1]\n",
            " [1]\n",
            " [1]\n",
            " [0]\n",
            " [0]\n",
            " [1]\n",
            " [0]\n",
            " [1]\n",
            " [1]\n",
            " [1]\n",
            " [0]\n",
            " [1]\n",
            " [1]\n",
            " [1]\n",
            " [1]\n",
            " [1]\n",
            " [1]\n",
            " [1]\n",
            " [1]\n",
            " [0]\n",
            " [0]\n",
            " [1]\n",
            " [1]\n",
            " [0]\n",
            " [0]\n",
            " [1]\n",
            " [0]\n",
            " [0]\n",
            " [1]\n",
            " [1]\n",
            " [1]\n",
            " [1]\n",
            " [1]\n",
            " [1]\n",
            " [0]\n",
            " [0]\n",
            " [0]\n",
            " [1]\n",
            " [1]\n",
            " [0]\n",
            " [0]\n",
            " [1]\n",
            " [0]\n",
            " [0]\n",
            " [1]\n",
            " [0]\n",
            " [0]\n",
            " [1]\n",
            " [1]\n",
            " [0]\n",
            " [0]\n",
            " [0]\n",
            " [1]\n",
            " [1]\n",
            " [0]\n",
            " [1]\n",
            " [1]\n",
            " [1]\n",
            " [1]\n",
            " [1]\n",
            " [0]\n",
            " [0]\n",
            " [1]\n",
            " [1]\n",
            " [1]\n",
            " [0]\n",
            " [0]\n",
            " [1]\n",
            " [0]\n",
            " [1]\n",
            " [0]\n",
            " [1]\n",
            " [0]\n",
            " [0]\n",
            " [0]\n",
            " [0]\n",
            " [0]\n",
            " [0]\n",
            " [0]\n",
            " [0]\n",
            " [0]\n",
            " [0]\n",
            " [1]\n",
            " [0]\n",
            " [1]\n",
            " [0]\n",
            " [0]\n",
            " [0]\n",
            " [0]\n",
            " [0]\n",
            " [0]\n",
            " [1]\n",
            " [1]\n",
            " [0]\n",
            " [1]\n",
            " [0]\n",
            " [1]\n",
            " [1]\n",
            " [1]\n",
            " [0]\n",
            " [1]\n",
            " [0]\n",
            " [1]\n",
            " [0]\n",
            " [1]\n",
            " [0]\n",
            " [0]\n",
            " [1]\n",
            " [0]\n",
            " [1]\n",
            " [1]\n",
            " [0]\n",
            " [0]\n",
            " [1]\n",
            " [0]\n",
            " [1]\n",
            " [0]\n",
            " [1]\n",
            " [0]\n",
            " [1]\n",
            " [1]\n",
            " [1]\n",
            " [0]\n",
            " [1]\n",
            " [0]\n",
            " [1]\n",
            " [0]\n",
            " [0]\n",
            " [1]\n",
            " [0]\n",
            " [0]\n",
            " [0]\n",
            " [0]\n",
            " [0]\n",
            " [1]\n",
            " [1]\n",
            " [0]\n",
            " [0]\n",
            " [0]\n",
            " [0]\n",
            " [0]\n",
            " [0]\n",
            " [0]\n",
            " [1]\n",
            " [0]\n",
            " [0]\n",
            " [0]\n",
            " [0]\n",
            " [1]\n",
            " [1]\n",
            " [0]\n",
            " [0]\n",
            " [1]\n",
            " [0]\n",
            " [1]\n",
            " [0]\n",
            " [0]\n",
            " [0]\n",
            " [0]\n",
            " [0]\n",
            " [1]\n",
            " [0]\n",
            " [1]\n",
            " [0]\n",
            " [1]\n",
            " [0]\n",
            " [0]\n",
            " [1]\n",
            " [1]\n",
            " [0]\n",
            " [0]\n",
            " [0]\n",
            " [0]\n",
            " [0]\n",
            " [1]\n",
            " [0]\n",
            " [0]\n",
            " [0]\n",
            " [0]\n",
            " [0]\n",
            " [0]\n",
            " [1]\n",
            " [0]\n",
            " [0]\n",
            " [1]\n",
            " [1]\n",
            " [1]\n",
            " [0]\n",
            " [1]\n",
            " [0]\n",
            " [1]\n",
            " [0]\n",
            " [1]\n",
            " [1]\n",
            " [1]\n",
            " [1]\n",
            " [0]\n",
            " [0]\n",
            " [0]\n",
            " [0]\n",
            " [0]\n",
            " [0]\n",
            " [0]\n",
            " [0]\n",
            " [1]\n",
            " [0]\n",
            " [0]\n",
            " [0]\n",
            " [1]\n",
            " [0]\n",
            " [1]\n",
            " [0]\n",
            " [1]\n",
            " [1]\n",
            " [0]\n",
            " [0]\n",
            " [1]\n",
            " [1]\n",
            " [1]\n",
            " [1]\n",
            " [1]\n",
            " [0]\n",
            " [0]\n",
            " [0]\n",
            " [0]\n",
            " [1]\n",
            " [0]\n",
            " [0]\n",
            " [1]\n",
            " [0]\n",
            " [0]\n",
            " [0]\n",
            " [1]\n",
            " [1]\n",
            " [1]\n",
            " [0]\n",
            " [0]\n",
            " [0]\n",
            " [0]\n",
            " [1]\n",
            " [0]\n",
            " [0]\n",
            " [0]\n",
            " [1]\n",
            " [0]\n",
            " [0]\n",
            " [0]\n",
            " [0]]\n",
            "[0, 1, 0, 0, 0, 0, 0, 1, 1, 1, 0, 0, 0, 1, 1, 0, 0, 1, 0, 0, 1, 1, 0, 0, 0, 0, 0, 0, 0, 1, 1, 1, 0, 0, 1, 0, 0, 1, 1, 0, 1, 1, 1, 1, 1, 1, 1, 1, 0, 0, 1, 1, 0, 0, 1, 0, 0, 0, 1, 1, 1, 1, 1, 0, 0, 0, 1, 1, 0, 0, 1, 0, 0, 1, 0, 0, 1, 1, 0, 0, 0, 1, 1, 0, 1, 0, 1, 1, 1, 0, 0, 1, 1, 1, 0, 0, 1, 0, 1, 0, 1, 0, 1, 0, 0, 0, 0, 0, 0, 0, 0, 1, 0, 1, 0, 0, 0, 0, 0, 0, 1, 1, 0, 1, 0, 1, 1, 1, 0, 1, 0, 1, 0, 1, 1, 0, 1, 0, 1, 1, 0, 0, 1, 0, 1, 0, 1, 0, 1, 1, 1, 0, 1, 0, 1, 0, 0, 1, 0, 0, 0, 0, 0, 1, 0, 1, 0, 0, 0, 0, 0, 0, 0, 0, 0, 0, 0, 1, 1, 0, 0, 1, 0, 1, 0, 0, 0, 0, 0, 1, 0, 0, 0, 1, 0, 0, 1, 1, 0, 0, 0, 0, 0, 1, 0, 0, 0, 0, 0, 0, 1, 0, 0, 1, 1, 0, 0, 0, 0, 1, 0, 1, 1, 1, 1, 0, 0, 0, 0, 0, 0, 0, 0, 1, 0, 0, 0, 1, 0, 1, 0, 1, 1, 0, 0, 1, 1, 1, 1, 1, 0, 0, 0, 0, 0, 0, 0, 1, 0, 0, 0, 1, 1, 1, 0, 0, 0, 0, 1, 0, 0, 0, 1, 0, 0, 0, 0]\n"
          ],
          "name": "stdout"
        }
      ]
    },
    {
      "cell_type": "code",
      "metadata": {
        "id": "Uyw_LlAHD0OS",
        "colab_type": "code",
        "colab": {}
      },
      "source": [
        "model.save_weights?"
      ],
      "execution_count": 0,
      "outputs": []
    }
  ]
}